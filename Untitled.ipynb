{
 "cells": [
  {
   "cell_type": "code",
   "execution_count": 14,
   "metadata": {},
   "outputs": [],
   "source": [
    "import os\n",
    "import os.path\n",
    "import glob\n",
    "import numpy as np\n",
    "import cv2\n",
    "import imutils\n",
    "import pickle\n",
    "from sklearn.preprocessing import LabelBinarizer\n",
    "from sklearn.model_selection import train_test_split\n",
    "from keras.models import Sequential\n",
    "from keras.layers.convolutional import Conv2D, MaxPooling2D\n",
    "from keras.layers.core import Flatten, Dense\n",
    "from matplotlib import pyplot as plt"
   ]
  },
  {
   "cell_type": "code",
   "execution_count": 2,
   "metadata": {},
   "outputs": [
    {
     "name": "stdout",
     "output_type": "stream",
     "text": [
      "['2', '3', '4', '5', '6', '7', '8', '9', 'A', 'B', 'C', 'D', 'E', 'F', 'G', 'H', 'J', 'K', 'L', 'M', 'N', 'P', 'Q', 'R', 'S', 'T', 'U', 'V', 'W', 'X', 'Y', 'Z']\n"
     ]
    }
   ],
   "source": [
    "path=\"F:\\captcha recognition\\split images\"\n",
    "folder=os.listdir(path)\n",
    "print(folder)\n",
    "data=[]\n",
    "label=[]"
   ]
  },
  {
   "cell_type": "code",
   "execution_count": 13,
   "metadata": {},
   "outputs": [
    {
     "name": "stdout",
     "output_type": "stream",
     "text": [
      "F:\\captcha recognition\\split images\\2\\*\n"
     ]
    },
    {
     "data": {
      "image/png": "[encoded data removed]",
      "text/plain": [
       "<Figure size 432x288 with 1 Axes>"
      ]
     },
     "metadata": {},
     "output_type": "display_data"
    },
    {
     "data": {
      "image/png": "[encoded data removed]",
      "text/plain": [
       "<Figure size 432x288 with 1 Axes>"
      ]
     },
     "metadata": {},
     "output_type": "display_data"
    },
    {
     "ename": "AttributeError",
     "evalue": "'numpy.ndarray' object has no attribute 'append'",
     "output_type": "error",
     "traceback": [
      "\u001b[1;31m---------------------------------------------------------------------------\u001b[0m",
      "\u001b[1;31mAttributeError\u001b[0m                            Traceback (most recent call last)",
      "\u001b[1;32m<ipython-input-13-c3e259bcff15>\u001b[0m in \u001b[0;36m<module>\u001b[1;34m\u001b[0m\n\u001b[0;32m     26\u001b[0m         \u001b[0mplt\u001b[0m\u001b[1;33m.\u001b[0m\u001b[0mshow\u001b[0m\u001b[1;33m(\u001b[0m\u001b[1;33m)\u001b[0m\u001b[1;33m\u001b[0m\u001b[0m\n\u001b[0;32m     27\u001b[0m         \u001b[0mimage\u001b[0m\u001b[1;33m=\u001b[0m\u001b[0mnp\u001b[0m\u001b[1;33m.\u001b[0m\u001b[0mexpand_dims\u001b[0m\u001b[1;33m(\u001b[0m\u001b[0mimage\u001b[0m\u001b[1;33m,\u001b[0m\u001b[0maxis\u001b[0m\u001b[1;33m=\u001b[0m\u001b[1;36m2\u001b[0m\u001b[1;33m)\u001b[0m\u001b[1;33m\u001b[0m\u001b[0m\n\u001b[1;32m---> 28\u001b[1;33m         \u001b[0mdata\u001b[0m\u001b[1;33m.\u001b[0m\u001b[0mappend\u001b[0m\u001b[1;33m(\u001b[0m\u001b[0mimage\u001b[0m\u001b[1;33m)\u001b[0m\u001b[1;33m\u001b[0m\u001b[0m\n\u001b[0m\u001b[0;32m     29\u001b[0m         \u001b[0mlabel\u001b[0m\u001b[1;33m.\u001b[0m\u001b[0mappend\u001b[0m\u001b[1;33m(\u001b[0m\u001b[0mi\u001b[0m\u001b[1;33m)\u001b[0m\u001b[1;33m\u001b[0m\u001b[0m\n\u001b[0;32m     30\u001b[0m         \u001b[1;32mbreak\u001b[0m\u001b[1;33m\u001b[0m\u001b[0m\n",
      "\u001b[1;31mAttributeError\u001b[0m: 'numpy.ndarray' object has no attribute 'append'"
     ]
    }
   ],
   "source": [
    "for i in folder:\n",
    "    path=\"F:\\captcha recognition\\split images\\{}\\*\".format(i)\n",
    "    print(path)\n",
    "    cap_im=glob.glob(path)\n",
    "    for j in cap_im:\n",
    "        image=cv2.imread(j)\n",
    "        if image is None:\n",
    "            continue\n",
    "        image=cv2.cvtColor(image, cv2.COLOR_BGR2GRAY)\n",
    "        plt.imshow(image, cmap = 'gray', interpolation = 'bicubic')\n",
    "        plt.xticks([]), plt.yticks([])  # to hide tick values on X and Y axis\n",
    "        plt.show()\n",
    "        (h, w) = image.shape[:2]\n",
    "        if w > h:\n",
    "            image = imutils.resize(image, width=20)\n",
    "        else:\n",
    "            image = imutils.resize(image, height=20)\n",
    "\n",
    "        padW = int((20 - image.shape[1]) / 2.0)\n",
    "        padH = int((20 - image.shape[0]) / 2.0)\n",
    "        image = cv2.copyMakeBorder(image, padH, padH, padW, padW,\n",
    "        cv2.BORDER_REPLICATE)\n",
    "        image = cv2.resize(image, (20,20))\n",
    "        image=np.expand_dims(image,axis=2)\n",
    "        data.append(image)\n",
    "        label.append(i)\n",
    "data=np.array(data)/255\n",
    "label=np.array(label)\n",
    "x_train,x_test,y_train,y_test= train_test_split(data,label,test_size=0.25,random_state=0)\n",
    "lb=LabelBinarizer().fit(label)\n",
    "y_train=lb.transform(y_train)\n",
    "y_test=lb.transform(y_test)\n",
    "with open(\"label.pickle\", \"wb\") as f:\n",
    "    pickle.dump(lb, f)\n",
    "\n",
    "\n",
    "        \n",
    "        "
   ]
  },
  {
   "cell_type": "code",
   "execution_count": 8,
   "metadata": {},
   "outputs": [
    {
     "name": "stdout",
     "output_type": "stream",
     "text": [
      "Train on 27122 samples, validate on 9041 samples\n",
      "Epoch 1/10\n",
      "27122/27122 [==============================] - 59s 2ms/step - loss: 0.1411 - acc: 0.9647 - val_loss: 0.0069 - val_acc: 0.9994\n",
      "Epoch 2/10\n",
      "27122/27122 [==============================] - 56s 2ms/step - loss: 0.0117 - acc: 0.9981 - val_loss: 0.0071 - val_acc: 0.9992\n",
      "Epoch 3/10\n",
      "27122/27122 [==============================] - 56s 2ms/step - loss: 0.0051 - acc: 0.9996 - val_loss: 0.0045 - val_acc: 0.9994\n",
      "Epoch 4/10\n",
      "27122/27122 [==============================] - 55s 2ms/step - loss: 0.0090 - acc: 0.9984 - val_loss: 0.0062 - val_acc: 0.9991\n",
      "Epoch 5/10\n",
      "27122/27122 [==============================] - 53s 2ms/step - loss: 0.0068 - acc: 0.9990 - val_loss: 0.0058 - val_acc: 0.9993\n",
      "Epoch 6/10\n",
      "27122/27122 [==============================] - 53s 2ms/step - loss: 0.0036 - acc: 0.9998 - val_loss: 0.0061 - val_acc: 0.9993\n",
      "Epoch 7/10\n",
      "27122/27122 [==============================] - 55s 2ms/step - loss: 0.0036 - acc: 0.9998 - val_loss: 0.0060 - val_acc: 0.9993\n",
      "Epoch 8/10\n",
      "27122/27122 [==============================] - 51s 2ms/step - loss: 0.0036 - acc: 0.9998 - val_loss: 0.0060 - val_acc: 0.9993\n",
      "Epoch 9/10\n",
      "27122/27122 [==============================] - 56s 2ms/step - loss: 0.0036 - acc: 0.9998 - val_loss: 0.0060 - val_acc: 0.9993\n",
      "Epoch 10/10\n",
      "27122/27122 [==============================] - 55s 2ms/step - loss: 0.0036 - acc: 0.9998 - val_loss: 0.0061 - val_acc: 0.9993\n"
     ]
    }
   ],
   "source": [
    "model=Sequential()\n",
    "model.add(Conv2D(20, (5, 5), padding=\"same\", input_shape=(20, 20, 1), activation=\"relu\"))\n",
    "model.add(MaxPooling2D(pool_size=(2, 2), strides=(2, 2)))\n",
    "model.add(Conv2D(50, (5, 5), padding=\"same\", activation=\"relu\"))\n",
    "model.add(MaxPooling2D(pool_size=(2, 2), strides=(2, 2)))\n",
    "model.add(Flatten())\n",
    "model.add(Dense(500, activation=\"relu\"))\n",
    "model.add(Dense(32, activation=\"softmax\"))\n",
    "model.compile(loss=\"categorical_crossentropy\", optimizer=\"adam\", metrics=[\"accuracy\"])\n",
    "model.fit(x_train, y_train, validation_data=(x_test, y_test), batch_size=32, epochs=10, verbose=1)\n",
    "model.save(\"model.hdf5\")"
   ]
  },
  {
   "cell_type": "code",
   "execution_count": null,
   "metadata": {},
   "outputs": [],
   "source": []
  },
  {
   "cell_type": "code",
   "execution_count": null,
   "metadata": {},
   "outputs": [],
   "source": [
    "data=np.array(data)/255\n",
    "label=np.array(label)\n",
    "x_train,x_test,y_train,y_test= train_test_split(data,label,test_size=0.25,random_state=0)\n",
    "lb=LabelBinarizer().fit(label)\n",
    "y_train=lb.transform(y_train)\n",
    "y_test=lb.transform(y_test)\n",
    "with open(\"label.pickle\", \"wb\") as f:\n",
    "    pickle.dump(lb, f)\n"
   ]
  }
 ],
 "metadata": {
  "kernelspec": {
   "display_name": "Python 3",
   "language": "python",
   "name": "python3"
  },
  "language_info": {
   "codemirror_mode": {
    "name": "ipython",
    "version": 3
   },
   "file_extension": ".py",
   "mimetype": "text/x-python",
   "name": "python",
   "nbconvert_exporter": "python",
   "pygments_lexer": "ipython3",
   "version": "3.6.5"
  }
 },
 "nbformat": 4,
 "nbformat_minor": 2
}
